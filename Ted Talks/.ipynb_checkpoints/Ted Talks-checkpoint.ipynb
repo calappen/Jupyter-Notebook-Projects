{
 "cells": [
  {
   "cell_type": "markdown",
   "id": "a267e514",
   "metadata": {},
   "source": [
    "## Exploring Ted Talks\n",
    "The following dataset spans Ted Talks from 1984 to 2021"
   ]
  },
  {
   "cell_type": "code",
   "execution_count": 1,
   "id": "36683904",
   "metadata": {},
   "outputs": [
    {
     "name": "stdout",
     "output_type": "stream",
     "text": [
      "| title                                                               | author                     |       date |   views |  likes | link                                                                                                             |\n",
      "| ------------------------------------------------------------------- | -------------------------- | ---------- | ------- | ------ | ---------------------------------------------------------------------------------------------------------------- |\n",
      "| Climate action needs new frontline leadership                       | Ozawa Bineshi Albert       | 2021-12-01 | 404,000 | 12,000 | https://ted.com/talks/ozawa_bineshi_albert_climate_action_needs_new_frontline_leadership                         |\n",
      "| The dark history of the overthrow of Hawaii                         | Sydney Iaukea              | 2022-02-01 | 214,000 |  6,400 | https://ted.com/talks/sydney_iaukea_the_dark_history_of_the_overthrow_of_hawaii                                  |\n",
      "| How play can spark new ideas for your business                      | Martin Reeves              | 2021-09-01 | 412,000 | 12,000 | https://ted.com/talks/martin_reeves_how_play_can_spark_new_ideas_for_your_business                               |\n",
      "| Why is China appointing judges to combat climate change?            | James K. Thornton          | 2021-10-01 | 427,000 | 12,000 | https://ted.com/talks/james_k_thornton_why_is_china_appointing_judges_to_combat_climate_change                   |\n",
      "| Cement's carbon problem ƒ?\" and 2 ways to fix it                    | Mahendra Singhi            | 2021-10-01 |   2,400 |     72 | https://ted.com/talks/mahendra_singhi_cement_s_carbon_problem_and_2_ways_to_fix_it                               |\n",
      "| The tragedy of air pollution ƒ?\" and an urgent demand for clean air | Rosamund Adoo-Kissi-Debrah | 2021-10-01 | 422,000 | 12,000 | https://ted.com/talks/rosamund_adoo_kissi_debrah_the_tragedy_of_air_pollution_and_an_urgent_demand_for_clean_air |\n",
      "| The myth of Narcissus and Echo                                      | Iseult Gillespie           | 2022-02-01 | 412,000 | 12,000 | https://ted.com/talks/iseult_gillespie_the_myth_of_narcissus_and_echo                                            |\n",
      "| You deserve the right to repair your stuff                          | Gay Gordon-Byrne           | 2021-08-01 | 455,000 | 13,000 | https://ted.com/talks/gay_gordon_byrne_you_deserve_the_right_to_repair_your_stuff                                |\n",
      "| What nature can teach us about sustainable business                 | Erin Meezan                | 2022-02-01 |  66,000 |  1,900 | https://ted.com/talks/erin_meezan_what_nature_can_teach_us_about_sustainable_business                            |\n"
     ]
    }
   ],
   "source": [
    "! powershell Get-Content TedTalks.csv -Head 10 | venv\\Scripts\\csvlook"
   ]
  },
  {
   "cell_type": "markdown",
   "id": "35a1c0bc",
   "metadata": {},
   "source": [
    "Taking an initial look at the CSV file."
   ]
  },
  {
   "cell_type": "code",
   "execution_count": 2,
   "id": "39724a63",
   "metadata": {},
   "outputs": [
    {
     "name": "stdout",
     "output_type": "stream",
     "text": [
      "['title', 'author', 'date', 'views', 'likes', 'link']\n",
      "[['Climate action needs new frontline leadership', 'Ozawa Bineshi Albert', 'December 2021', '404000', '12000', 'https://ted.com/talks/ozawa_bineshi_albert_climate_action_needs_new_frontline_leadership'], ['The dark history of the overthrow of Hawaii', 'Sydney Iaukea', 'February 2022', '214000', '6400', 'https://ted.com/talks/sydney_iaukea_the_dark_history_of_the_overthrow_of_hawaii'], ['How play can spark new ideas for your business', 'Martin Reeves', 'September 2021', '412000', '12000', 'https://ted.com/talks/martin_reeves_how_play_can_spark_new_ideas_for_your_business'], ['Why is China appointing judges to combat climate change?', 'James K. Thornton', 'October 2021', '427000', '12000', 'https://ted.com/talks/james_k_thornton_why_is_china_appointing_judges_to_combat_climate_change'], [\"Cement's carbon problem — and 2 ways to fix it\", 'Mahendra Singhi', 'October 2021', '2400', '72', 'https://ted.com/talks/mahendra_singhi_cement_s_carbon_problem_and_2_ways_to_fix_it']]\n"
     ]
    }
   ],
   "source": [
    "import csv\n",
    "data = []\n",
    "with open(\"TedTalks.csv\", encoding=\"UTF-8\") as file:\n",
    "    read_file = csv.reader(file)\n",
    "    header = next(read_file)\n",
    "    for row in read_file:\n",
    "        data.append(row)\n",
    "print(header)\n",
    "print(data[:5])"
   ]
  },
  {
   "cell_type": "markdown",
   "id": "3a64ae63",
   "metadata": {},
   "source": [
    "The CSV file of data is imported and saved as a list. The data should be checked for any empty cells. If any row has empty cells, it will be removed."
   ]
  },
  {
   "cell_type": "code",
   "execution_count": 3,
   "id": "6f09bbb5",
   "metadata": {},
   "outputs": [
    {
     "name": "stdout",
     "output_type": "stream",
     "text": [
      "Empty cell at row 3039, column 1\n"
     ]
    }
   ],
   "source": [
    "row_count = 0\n",
    "col_count = 0\n",
    "for row in data:\n",
    "    for col in row:\n",
    "        if col == \"\":\n",
    "            print(\"Empty cell at row {}, column {}\".format(row_count, col_count))\n",
    "        col_count += 1\n",
    "    row_count += 1\n",
    "    col_count = 0\n",
    "            "
   ]
  },
  {
   "cell_type": "code",
   "execution_count": 4,
   "id": "5c65095d",
   "metadata": {},
   "outputs": [
    {
     "name": "stdout",
     "output_type": "stream",
     "text": [
      "['Year In Ideas 2015', '', 'December 2015', '532', '15', 'https://ted.com/talks/year_in_ideas_2015']\n"
     ]
    }
   ],
   "source": [
    "print(data[3039])"
   ]
  },
  {
   "cell_type": "markdown",
   "id": "f5dc60dc",
   "metadata": {},
   "source": [
    "Row 3039 is missing data. This row will be removed from the dataset."
   ]
  },
  {
   "cell_type": "code",
   "execution_count": 5,
   "id": "5ba35ae9",
   "metadata": {},
   "outputs": [],
   "source": [
    "del data[3039]"
   ]
  },
  {
   "cell_type": "markdown",
   "id": "62eb40d0",
   "metadata": {},
   "source": [
    "Let's make separate datasets sorted by most views and most likes respectively. The counts for views and likes first need to be converted to integers to be sorted properly."
   ]
  },
  {
   "cell_type": "code",
   "execution_count": 6,
   "id": "7660fc84",
   "metadata": {},
   "outputs": [],
   "source": [
    "for row in data:\n",
    "    row[3] = int(row[3])\n",
    "    row[4] = int(row[4])"
   ]
  },
  {
   "cell_type": "markdown",
   "id": "02b100f7",
   "metadata": {},
   "source": [
    "Now they can be sorted."
   ]
  },
  {
   "cell_type": "code",
   "execution_count": 9,
   "id": "1af6b345",
   "metadata": {},
   "outputs": [
    {
     "name": "stdout",
     "output_type": "stream",
     "text": [
      "Most likes in descending order:\n",
      "['Do schools kill creativity?', 'Sir Ken Robinson', 'February 2006', 72000000, 2100000, 'https://ted.com/talks/sir_ken_robinson_do_schools_kill_creativity']\n",
      "['Your body language may shape who you are', 'Amy Cuddy', 'June 2012', 64000000, 1900000, 'https://ted.com/talks/amy_cuddy_your_body_language_may_shape_who_you_are']\n",
      "['Inside the mind of a master procrastinator', 'Tim Urban', 'February 2016', 60000000, 1800000, 'https://ted.com/talks/tim_urban_inside_the_mind_of_a_master_procrastinator']\n",
      "['The power of vulnerability', 'Brené Brown', 'June 2010', 56000000, 1700000, 'https://ted.com/talks/brene_brown_the_power_of_vulnerability']\n",
      "['How great leaders inspire action', 'Simon Sinek', 'September 2009', 57000000, 1700000, 'https://ted.com/talks/simon_sinek_how_great_leaders_inspire_action']\n",
      "\n",
      "Most views in descending order:\n",
      "['Do schools kill creativity?', 'Sir Ken Robinson', 'February 2006', 72000000, 2100000, 'https://ted.com/talks/sir_ken_robinson_do_schools_kill_creativity']\n",
      "['Your body language may shape who you are', 'Amy Cuddy', 'June 2012', 64000000, 1900000, 'https://ted.com/talks/amy_cuddy_your_body_language_may_shape_who_you_are']\n",
      "['Inside the mind of a master procrastinator', 'Tim Urban', 'February 2016', 60000000, 1800000, 'https://ted.com/talks/tim_urban_inside_the_mind_of_a_master_procrastinator']\n",
      "['How great leaders inspire action', 'Simon Sinek', 'September 2009', 57000000, 1700000, 'https://ted.com/talks/simon_sinek_how_great_leaders_inspire_action']\n",
      "['The power of vulnerability', 'Brené Brown', 'June 2010', 56000000, 1700000, 'https://ted.com/talks/brene_brown_the_power_of_vulnerability']\n"
     ]
    }
   ],
   "source": [
    "views_data = sorted(data, key=lambda x: x[3], reverse=True)\n",
    "likes_data = sorted(data, key=lambda x: x[4], reverse=True)\n",
    "print(\"Most likes in descending order:\")\n",
    "for row in likes_data[:5]:\n",
    "    print(row)\n",
    "print(\"\\nMost views in descending order:\")\n",
    "for row in views_data[:5]:\n",
    "    print(row)"
   ]
  },
  {
   "cell_type": "markdown",
   "id": "411e79ee",
   "metadata": {},
   "source": [
    "The top 5 most liked Ted Talks are also the top 5 most viewed. Let's see the average of likes and views per year."
   ]
  },
  {
   "cell_type": "code",
   "execution_count": 10,
   "id": "5fa209b5",
   "metadata": {},
   "outputs": [
    {
     "name": "stdout",
     "output_type": "stream",
     "text": [
      "Averages of views per year\n",
      "2022: 2108.8\n",
      "2021: 79008.8\n",
      "2020: 116923.0\n",
      "2019: 174318.7\n",
      "2018: 149266.0\n",
      "2017: 183653.5\n",
      "2016: 170784.1\n",
      "2015: 212307.3\n",
      "2014: 151618.4\n",
      "2013: 195355.3\n",
      "2012: 147671.6\n",
      "2011: 105842.6\n",
      "2010: 97103.5\n",
      "2009: 102525.3\n",
      "2008: 38243.8\n",
      "2007: 32478.6\n",
      "2006: 33298.4\n",
      "2005: 28953.5\n",
      "2004: 20661.5\n",
      "2003: 10000.7\n",
      "2002: 5597.0\n",
      "2001: 1936.0\n",
      "1998: 1362.4\n",
      "1994: 128.5\n",
      "1991: 60.1\n",
      "1990: 132.9\n",
      "1984: 202.2\n",
      "1983: 126.9\n",
      "1972: 239.0\n",
      "1970: 46.3\n",
      "\n",
      "Averages of likes per year\n",
      "2022: 62.7\n",
      "2021: 2400.9\n",
      "2020: 3547.9\n",
      "2019: 5288.6\n",
      "2018: 4536.0\n",
      "2017: 5610.7\n",
      "2016: 5204.4\n",
      "2015: 6462.9\n",
      "2014: 4610.5\n",
      "2013: 5929.4\n",
      "2012: 4473.5\n",
      "2011: 3213.6\n",
      "2010: 2934.9\n",
      "2009: 3096.4\n",
      "2008: 1160.6\n",
      "2007: 980.3\n",
      "2006: 993.1\n",
      "2005: 883.4\n",
      "2004: 631.8\n",
      "2003: 301.6\n",
      "2002: 168.4\n",
      "2001: 57.9\n",
      "1998: 41.6\n",
      "1994: 3.7\n",
      "1991: 1.8\n",
      "1990: 3.9\n",
      "1984: 6.1\n",
      "1983: 3.7\n",
      "1972: 7.5\n",
      "1970: 1.4\n"
     ]
    }
   ],
   "source": [
    "from datetime import datetime\n",
    "date_format = \"%B %Y\"\n",
    "def averages(dataset, col):\n",
    "    avg_per_year = {}\n",
    "    for row in dataset:\n",
    "        date = row[2]\n",
    "        dt_object = datetime.strptime(date, date_format)\n",
    "        year = dt_object.year\n",
    "        if year not in avg_per_year:\n",
    "            avg_per_year[year] = row[col]\n",
    "        elif year in avg_per_year:\n",
    "            avg_per_year[year] += row[col]\n",
    "    for year in avg_per_year:\n",
    "        avg = avg_per_year[year] / len(dataset)\n",
    "        avg_per_year[year] = round(avg, 1)\n",
    "    for key in sorted(avg_per_year.keys(), reverse=True):\n",
    "        print(\"{}: {}\".format(key, avg_per_year[key]))\n",
    "\n",
    "print(\"Averages of views per year\")\n",
    "averages(data, 3)\n",
    "\n",
    "print(\"\\nAverages of likes per year\")\n",
    "averages(data, 4)"
   ]
  },
  {
   "cell_type": "markdown",
   "id": "7a535c8b",
   "metadata": {},
   "source": [
    "The likes and views for 2022 are lower since the year has only recently started. A dip in likes and views can be seen in 2020, and dips lower still in 2021. This is most likely due to the pandemic that started in the beginning of 2020."
   ]
  }
 ],
 "metadata": {
  "kernelspec": {
   "display_name": "Python 3 (ipykernel)",
   "language": "python",
   "name": "python3"
  },
  "language_info": {
   "codemirror_mode": {
    "name": "ipython",
    "version": 3
   },
   "file_extension": ".py",
   "mimetype": "text/x-python",
   "name": "python",
   "nbconvert_exporter": "python",
   "pygments_lexer": "ipython3",
   "version": "3.9.7"
  }
 },
 "nbformat": 4,
 "nbformat_minor": 5
}
