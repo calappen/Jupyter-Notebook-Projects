{
 "cells": [
  {
   "cell_type": "markdown",
   "id": "a267e514",
   "metadata": {},
   "source": [
    "## Exploring Ted Talks\n",
    "The following dataset spans Ted Talks from 1984 to 2021"
   ]
  },
  {
   "cell_type": "code",
   "execution_count": 1,
   "id": "39724a63",
   "metadata": {},
   "outputs": [
    {
     "name": "stdout",
     "output_type": "stream",
     "text": [
      "['title', 'author', 'date', 'views', 'likes', 'link']\n",
      "[['Climate action needs new frontline leadership', 'Ozawa Bineshi Albert', 'December 2021', '404000', '12000', 'https://ted.com/talks/ozawa_bineshi_albert_climate_action_needs_new_frontline_leadership'], ['The dark history of the overthrow of Hawaii', 'Sydney Iaukea', 'February 2022', '214000', '6400', 'https://ted.com/talks/sydney_iaukea_the_dark_history_of_the_overthrow_of_hawaii'], ['How play can spark new ideas for your business', 'Martin Reeves', 'September 2021', '412000', '12000', 'https://ted.com/talks/martin_reeves_how_play_can_spark_new_ideas_for_your_business'], ['Why is China appointing judges to combat climate change?', 'James K. Thornton', 'October 2021', '427000', '12000', 'https://ted.com/talks/james_k_thornton_why_is_china_appointing_judges_to_combat_climate_change'], [\"Cement's carbon problem — and 2 ways to fix it\", 'Mahendra Singhi', 'October 2021', '2400', '72', 'https://ted.com/talks/mahendra_singhi_cement_s_carbon_problem_and_2_ways_to_fix_it']]\n"
     ]
    }
   ],
   "source": [
    "import csv\n",
    "data = []\n",
    "with open(\"TedTalks.csv\", encoding=\"UTF-8\") as file:\n",
    "    read_file = csv.reader(file)\n",
    "    header = next(read_file)\n",
    "    for row in read_file:\n",
    "        data.append(row)\n",
    "print(header)\n",
    "print(data[:5])"
   ]
  },
  {
   "cell_type": "markdown",
   "id": "3a64ae63",
   "metadata": {},
   "source": [
    "The dataset is imported and initially viewed. Each row should have 6 columns. Testing below to see if any columns are missing from each row. If so they will be removed later."
   ]
  },
  {
   "cell_type": "code",
   "execution_count": 4,
   "id": "6f09bbb5",
   "metadata": {},
   "outputs": [],
   "source": [
    "row_count = 0\n",
    "for row in data:\n",
    "    if len(row) < 6:\n",
    "        print(\"Column missing at row {}\".format(row_count))\n",
    "    row_count += 1"
   ]
  },
  {
   "cell_type": "code",
   "execution_count": null,
   "id": "5c65095d",
   "metadata": {},
   "outputs": [],
   "source": []
  }
 ],
 "metadata": {
  "kernelspec": {
   "display_name": "Python 3 (ipykernel)",
   "language": "python",
   "name": "python3"
  },
  "language_info": {
   "codemirror_mode": {
    "name": "ipython",
    "version": 3
   },
   "file_extension": ".py",
   "mimetype": "text/x-python",
   "name": "python",
   "nbconvert_exporter": "python",
   "pygments_lexer": "ipython3",
   "version": "3.9.7"
  }
 },
 "nbformat": 4,
 "nbformat_minor": 5
}
