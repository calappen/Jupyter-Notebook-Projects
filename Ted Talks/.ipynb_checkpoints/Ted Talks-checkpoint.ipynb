{
 "cells": [
  {
   "cell_type": "markdown",
   "id": "a267e514",
   "metadata": {},
   "source": [
    "## Exploring Ted Talks\n",
    "The following dataset spans Ted Talks from 1984 to 2021"
   ]
  },
  {
   "cell_type": "code",
   "execution_count": 13,
   "id": "36683904",
   "metadata": {},
   "outputs": [
    {
     "name": "stdout",
     "output_type": "stream",
     "text": [
      "| title                                                               | author                     |       date |   views |  likes | link                                                                                                             |\n",
      "| ------------------------------------------------------------------- | -------------------------- | ---------- | ------- | ------ | ---------------------------------------------------------------------------------------------------------------- |\n",
      "| Climate action needs new frontline leadership                       | Ozawa Bineshi Albert       | 2021-12-01 | 404,000 | 12,000 | https://ted.com/talks/ozawa_bineshi_albert_climate_action_needs_new_frontline_leadership                         |\n",
      "| The dark history of the overthrow of Hawaii                         | Sydney Iaukea              | 2022-02-01 | 214,000 |  6,400 | https://ted.com/talks/sydney_iaukea_the_dark_history_of_the_overthrow_of_hawaii                                  |\n",
      "| How play can spark new ideas for your business                      | Martin Reeves              | 2021-09-01 | 412,000 | 12,000 | https://ted.com/talks/martin_reeves_how_play_can_spark_new_ideas_for_your_business                               |\n",
      "| Why is China appointing judges to combat climate change?            | James K. Thornton          | 2021-10-01 | 427,000 | 12,000 | https://ted.com/talks/james_k_thornton_why_is_china_appointing_judges_to_combat_climate_change                   |\n",
      "| Cement's carbon problem ƒ?\" and 2 ways to fix it                    | Mahendra Singhi            | 2021-10-01 |   2,400 |     72 | https://ted.com/talks/mahendra_singhi_cement_s_carbon_problem_and_2_ways_to_fix_it                               |\n",
      "| The tragedy of air pollution ƒ?\" and an urgent demand for clean air | Rosamund Adoo-Kissi-Debrah | 2021-10-01 | 422,000 | 12,000 | https://ted.com/talks/rosamund_adoo_kissi_debrah_the_tragedy_of_air_pollution_and_an_urgent_demand_for_clean_air |\n",
      "| The myth of Narcissus and Echo                                      | Iseult Gillespie           | 2022-02-01 | 412,000 | 12,000 | https://ted.com/talks/iseult_gillespie_the_myth_of_narcissus_and_echo                                            |\n",
      "| You deserve the right to repair your stuff                          | Gay Gordon-Byrne           | 2021-08-01 | 455,000 | 13,000 | https://ted.com/talks/gay_gordon_byrne_you_deserve_the_right_to_repair_your_stuff                                |\n",
      "| What nature can teach us about sustainable business                 | Erin Meezan                | 2022-02-01 |  66,000 |  1,900 | https://ted.com/talks/erin_meezan_what_nature_can_teach_us_about_sustainable_business                            |\n"
     ]
    }
   ],
   "source": [
    "! powershell Get-Content TedTalks.csv -Head 10 | venv\\Scripts\\csvlook"
   ]
  },
  {
   "cell_type": "code",
   "execution_count": 2,
   "id": "39724a63",
   "metadata": {},
   "outputs": [
    {
     "name": "stdout",
     "output_type": "stream",
     "text": [
      "['title', 'author', 'date', 'views', 'likes', 'link']\n",
      "[['Climate action needs new frontline leadership', 'Ozawa Bineshi Albert', 'December 2021', '404000', '12000', 'https://ted.com/talks/ozawa_bineshi_albert_climate_action_needs_new_frontline_leadership'], ['The dark history of the overthrow of Hawaii', 'Sydney Iaukea', 'February 2022', '214000', '6400', 'https://ted.com/talks/sydney_iaukea_the_dark_history_of_the_overthrow_of_hawaii'], ['How play can spark new ideas for your business', 'Martin Reeves', 'September 2021', '412000', '12000', 'https://ted.com/talks/martin_reeves_how_play_can_spark_new_ideas_for_your_business'], ['Why is China appointing judges to combat climate change?', 'James K. Thornton', 'October 2021', '427000', '12000', 'https://ted.com/talks/james_k_thornton_why_is_china_appointing_judges_to_combat_climate_change'], [\"Cement's carbon problem — and 2 ways to fix it\", 'Mahendra Singhi', 'October 2021', '2400', '72', 'https://ted.com/talks/mahendra_singhi_cement_s_carbon_problem_and_2_ways_to_fix_it']]\n"
     ]
    }
   ],
   "source": [
    "import csv\n",
    "data = []\n",
    "with open(\"TedTalks.csv\", encoding=\"UTF-8\") as file:\n",
    "    read_file = csv.reader(file)\n",
    "    header = next(read_file)\n",
    "    for row in read_file:\n",
    "        data.append(row)\n",
    "print(header)\n",
    "print(data[:5])"
   ]
  },
  {
   "cell_type": "markdown",
   "id": "3a64ae63",
   "metadata": {},
   "source": [
    "The dataset is imported and initially viewed. The data should be checked for any empty cells. If any row has empty cells, it should be removed."
   ]
  },
  {
   "cell_type": "code",
   "execution_count": 3,
   "id": "6f09bbb5",
   "metadata": {},
   "outputs": [
    {
     "name": "stdout",
     "output_type": "stream",
     "text": [
      "Empty cell at row 3039, column 1\n"
     ]
    }
   ],
   "source": [
    "row_count = 0\n",
    "col_count = 0\n",
    "for row in data:\n",
    "    for col in row:\n",
    "        if col == \"\":\n",
    "            print(\"Empty cell at row {}, column {}\".format(row_count, col_count))\n",
    "        col_count += 1\n",
    "    row_count += 1\n",
    "    col_count = 0\n",
    "            "
   ]
  },
  {
   "cell_type": "code",
   "execution_count": 4,
   "id": "5c65095d",
   "metadata": {},
   "outputs": [
    {
     "name": "stdout",
     "output_type": "stream",
     "text": [
      "['Year In Ideas 2015', '', 'December 2015', '532', '15', 'https://ted.com/talks/year_in_ideas_2015']\n"
     ]
    }
   ],
   "source": [
    "print(data[3039])"
   ]
  },
  {
   "cell_type": "markdown",
   "id": "f5dc60dc",
   "metadata": {},
   "source": [
    "Row 3039 is missing data. This row will be removed from the dataset."
   ]
  },
  {
   "cell_type": "code",
   "execution_count": 5,
   "id": "5ba35ae9",
   "metadata": {},
   "outputs": [],
   "source": [
    "del data[3039]"
   ]
  },
  {
   "cell_type": "markdown",
   "id": "62eb40d0",
   "metadata": {},
   "source": [
    "Let's make separate datasets sorted by views and likes respectively. The views and likes counts first need to converted to int to be sorted properly."
   ]
  },
  {
   "cell_type": "code",
   "execution_count": 6,
   "id": "7660fc84",
   "metadata": {},
   "outputs": [],
   "source": [
    "for row in data:\n",
    "    row[3] = int(row[3])\n",
    "    row[4] = int(row[4])"
   ]
  },
  {
   "cell_type": "markdown",
   "id": "02b100f7",
   "metadata": {},
   "source": [
    "Now they can be sorted."
   ]
  },
  {
   "cell_type": "code",
   "execution_count": 7,
   "id": "1af6b345",
   "metadata": {},
   "outputs": [
    {
     "name": "stdout",
     "output_type": "stream",
     "text": [
      "Sorted by likes:\n",
      "['Do schools kill creativity?', 'Sir Ken Robinson', 'February 2006', 72000000, 2100000, 'https://ted.com/talks/sir_ken_robinson_do_schools_kill_creativity']\n",
      "['Your body language may shape who you are', 'Amy Cuddy', 'June 2012', 64000000, 1900000, 'https://ted.com/talks/amy_cuddy_your_body_language_may_shape_who_you_are']\n",
      "['Inside the mind of a master procrastinator', 'Tim Urban', 'February 2016', 60000000, 1800000, 'https://ted.com/talks/tim_urban_inside_the_mind_of_a_master_procrastinator']\n",
      "['The power of vulnerability', 'Brené Brown', 'June 2010', 56000000, 1700000, 'https://ted.com/talks/brene_brown_the_power_of_vulnerability']\n",
      "['How great leaders inspire action', 'Simon Sinek', 'September 2009', 57000000, 1700000, 'https://ted.com/talks/simon_sinek_how_great_leaders_inspire_action']\n",
      "\n",
      "Sorted by views:\n",
      "['Do schools kill creativity?', 'Sir Ken Robinson', 'February 2006', 72000000, 2100000, 'https://ted.com/talks/sir_ken_robinson_do_schools_kill_creativity']\n",
      "['Your body language may shape who you are', 'Amy Cuddy', 'June 2012', 64000000, 1900000, 'https://ted.com/talks/amy_cuddy_your_body_language_may_shape_who_you_are']\n",
      "['Inside the mind of a master procrastinator', 'Tim Urban', 'February 2016', 60000000, 1800000, 'https://ted.com/talks/tim_urban_inside_the_mind_of_a_master_procrastinator']\n",
      "['How great leaders inspire action', 'Simon Sinek', 'September 2009', 57000000, 1700000, 'https://ted.com/talks/simon_sinek_how_great_leaders_inspire_action']\n",
      "['The power of vulnerability', 'Brené Brown', 'June 2010', 56000000, 1700000, 'https://ted.com/talks/brene_brown_the_power_of_vulnerability']\n"
     ]
    }
   ],
   "source": [
    "views_data = sorted(data, key=lambda x: x[3], reverse=True)\n",
    "likes_data = sorted(data, key=lambda x: x[4], reverse=True)\n",
    "print(\"Sorted by likes:\")\n",
    "for row in likes_data[:5]:\n",
    "    print(row)\n",
    "print(\"\\nSorted by views:\")\n",
    "for row in views_data[:5]:\n",
    "    print(row)"
   ]
  },
  {
   "cell_type": "code",
   "execution_count": null,
   "id": "2900c6c1",
   "metadata": {},
   "outputs": [],
   "source": []
  }
 ],
 "metadata": {
  "kernelspec": {
   "display_name": "Python 3 (ipykernel)",
   "language": "python",
   "name": "python3"
  },
  "language_info": {
   "codemirror_mode": {
    "name": "ipython",
    "version": 3
   },
   "file_extension": ".py",
   "mimetype": "text/x-python",
   "name": "python",
   "nbconvert_exporter": "python",
   "pygments_lexer": "ipython3",
   "version": "3.9.7"
  }
 },
 "nbformat": 4,
 "nbformat_minor": 5
}
